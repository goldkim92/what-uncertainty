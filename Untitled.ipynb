{
 "cells": [
  {
   "cell_type": "code",
   "execution_count": 1,
   "metadata": {},
   "outputs": [],
   "source": [
    "import os\n",
    "from os.path import join\n",
    "\n",
    "import torch\n",
    "import torch.nn as nn\n",
    "import torch.nn.functional as F\n",
    "import torchvision as tv\n",
    "\n",
    "import data\n",
    "import util\n",
    "import models"
   ]
  },
  {
   "cell_type": "code",
   "execution_count": 2,
   "metadata": {},
   "outputs": [],
   "source": [
    "unnorm = util.UnNormalize([0.507, 0.487, 0.441], [0.267, 0.256, 0.276])\n",
    "device = torch.device('cuda' if torch.cuda.is_available() else 'cpu')\n",
    "\n",
    "# hyper-parameter\n",
    "bs = 128\n",
    "n_classes = 100\n",
    "mc = 10\n",
    "lr = 1e-4\n",
    "wd = 1e-4\n",
    "epochs = 90\n",
    "runs_dir = 'runs'\n",
    "\n",
    "best_acc = 0."
   ]
  },
  {
   "cell_type": "code",
   "execution_count": null,
   "metadata": {},
   "outputs": [],
   "source": [
    "if not os.path.exists(runs_dir):\n",
    "    os.makedirs(runs_dir)"
   ]
  },
  {
   "cell_type": "code",
   "execution_count": null,
   "metadata": {},
   "outputs": [],
   "source": []
  },
  {
   "cell_type": "code",
   "execution_count": 3,
   "metadata": {},
   "outputs": [
    {
     "name": "stdout",
     "output_type": "stream",
     "text": [
      "Files already downloaded and verified\n"
     ]
    }
   ],
   "source": [
    "# data loader\n",
    "train_loader, test_loader = data.get_cifar100_loader(bs)"
   ]
  },
  {
   "cell_type": "code",
   "execution_count": 4,
   "metadata": {},
   "outputs": [
    {
     "name": "stdout",
     "output_type": "stream",
     "text": [
      "Using downloaded and verified file: ../data/train_32x32.mat\n",
      "Using downloaded and verified file: ../data/test_32x32.mat\n"
     ]
    }
   ],
   "source": [
    "_, svhn_loader = data.get_svhn_loader(bs)"
   ]
  },
  {
   "cell_type": "code",
   "execution_count": null,
   "metadata": {},
   "outputs": [],
   "source": []
  },
  {
   "cell_type": "code",
   "execution_count": null,
   "metadata": {},
   "outputs": [],
   "source": [
    "class resnet50_modified(nn.Module):\n",
    "    def __init__(self, n_classes, mc):\n",
    "        super(resnet50_modified, self).__init__()\n",
    "        self.n_classes = n_classes\n",
    "        self.mc = mc\n",
    "        \n",
    "        # get the resnet network\n",
    "        self.model = models.ResNet50()\n",
    "        \n",
    "        # dissect the network\n",
    "        self.features_conv = nn.Sequential(*list(self.model.children())[:-1])\n",
    "        \n",
    "        # add the classfiier (with aleotoric design)\n",
    "        self.classifier = nn.Linear(in_features=2048, out_features=n_classes*2, bias=True)\n",
    "        \n",
    "        # delete model variable\n",
    "        del self.model\n",
    "        \n",
    "    def get_logprob(self, mu, rho):\n",
    "        '''\n",
    "        rho = log(sigma**2)\n",
    "        '''\n",
    "        xs = []\n",
    "        for _ in range(self.mc):\n",
    "            epsilon = torch.randn_like(rho)\n",
    "            xs.append(mu + rho.div(2).exp() * epsilon)\n",
    "        xs = torch.stack(xs, dim=2) # [B, n_classes, mc]\n",
    "        xs = torch.softmax(xs, dim=1) # [B, n_classes, mc]\n",
    "        logprob = xs.mean(dim=2).log() # [B, n_classes]\n",
    "        return logprob\n",
    "        \n",
    "    def forward(self, x):\n",
    "        x = self.features_conv(x)\n",
    "        x = x.view(x.size(0), -1)\n",
    "        x = self.classifier(x)\n",
    "        \n",
    "        mu, rho = x[:,:n_classes], x[:,n_classes:]\n",
    "        logprob = self.get_logprob(mu, rho)\n",
    "        return logprob, mu, rho"
   ]
  },
  {
   "cell_type": "code",
   "execution_count": null,
   "metadata": {},
   "outputs": [],
   "source": [
    "# build model\n",
    "arch = 'resnet'\n",
    "if arch == 'resnet_aleo':\n",
    "    model = models.ResNet50_modified(n_classes, mc)\n",
    "    criterion = F.nll_loss\n",
    "elif arch == 'resnet':\n",
    "    model = models.ResNet50()\n",
    "    criterion = F.cross_entropy\n",
    "model = model.to(device)\n",
    "optimizer = torch.optim.Adam(model.parameters(), lr=lr, weight_decay=wd)"
   ]
  },
  {
   "cell_type": "code",
   "execution_count": null,
   "metadata": {},
   "outputs": [],
   "source": []
  },
  {
   "cell_type": "code",
   "execution_count": null,
   "metadata": {},
   "outputs": [],
   "source": [
    "from tqdm import tqdm_notebook"
   ]
  },
  {
   "cell_type": "code",
   "execution_count": null,
   "metadata": {},
   "outputs": [],
   "source": [
    "def train(epoch):\n",
    "    model.train()\n",
    "    train_loss = 0.\n",
    "    correct = 0\n",
    "    total = 0\n",
    "    for idx, (inputs, targets) in tqdm_notebook(enumerate(train_loader)):\n",
    "        inputs, targets = inputs.to(device), targets.to(device)\n",
    "\n",
    "        optimizer.zero_grad()\n",
    "        logprob,_,_ = model(inputs)\n",
    "        loss = criterion(logprob, targets)\n",
    "        loss.backward()\n",
    "        optimizer.step()\n",
    "\n",
    "        train_loss += loss.cpu().detach().item()\n",
    "        total += inputs.size(0)\n",
    "        correct += logprob.max(1)[1].eq(targets).sum().item()\n",
    "#         break\n",
    "\n",
    "    train_loss /= total\n",
    "    correct /= total\n",
    "    print('Epoch {:03d} | Loss: {:.04f} | Acc: {:.03f}'.format(epoch+1, train_loss, correct))"
   ]
  },
  {
   "cell_type": "code",
   "execution_count": null,
   "metadata": {},
   "outputs": [],
   "source": [
    "def test(epoch):\n",
    "    global best_acc\n",
    "    model.eval()\n",
    "    test_loss = 0.\n",
    "    correct = 0\n",
    "    total = 0\n",
    "    with torch.no_grad():\n",
    "        for idx, (inputs, targets) in tqdm_notebook(enumerate(test_loader)):\n",
    "            inputs, targets = inputs.to(device), targets.to(device)\n",
    "\n",
    "            logprob,_,_ = model(inputs)\n",
    "            loss = criterion(logprob, targets)\n",
    "\n",
    "            test_loss += loss.cpu().detach().item()\n",
    "            total += inputs.size(0)\n",
    "            correct += logprob.max(1)[1].eq(targets).sum().item()\n",
    "\n",
    "    test_loss /= total\n",
    "    correct /= total\n",
    "    print('Epoch {:03d} | Loss: {:.04f} | Acc: {:.03f}'.format(epoch+1, test_loss, correct))\n",
    "    \n",
    "    # Save checkpoint\n",
    "    acc = 100. * correct\n",
    "    if acc > best_acc:\n",
    "        print('Saving..')\n",
    "        state = {\n",
    "            'model': model.state_dict(),\n",
    "            'acc': acc,\n",
    "            'epoch': epoch,\n",
    "        }\n",
    "        torch.save(state, join(runs_dir, 'model_ckpt.pth'))\n",
    "        best_acc = acc"
   ]
  },
  {
   "cell_type": "code",
   "execution_count": null,
   "metadata": {},
   "outputs": [],
   "source": [
    "for epoch in range(10):\n",
    "    train(epoch)\n",
    "    test(epoch)\n",
    "    print('\\n')"
   ]
  },
  {
   "cell_type": "code",
   "execution_count": null,
   "metadata": {},
   "outputs": [],
   "source": []
  },
  {
   "cell_type": "code",
   "execution_count": null,
   "metadata": {},
   "outputs": [],
   "source": []
  },
  {
   "cell_type": "code",
   "execution_count": null,
   "metadata": {},
   "outputs": [],
   "source": []
  },
  {
   "cell_type": "code",
   "execution_count": 29,
   "metadata": {},
   "outputs": [],
   "source": [
    "import seaborn as sns\n",
    "import matplotlib.pyplot as plt"
   ]
  },
  {
   "cell_type": "code",
   "execution_count": 62,
   "metadata": {},
   "outputs": [],
   "source": [
    "sns.set_style(style='darkgrid')"
   ]
  },
  {
   "cell_type": "markdown",
   "metadata": {},
   "source": [
    "### Load pre-trained model"
   ]
  },
  {
   "cell_type": "code",
   "execution_count": 6,
   "metadata": {},
   "outputs": [],
   "source": [
    "runs_dir = join('runs','resnet_aleo')"
   ]
  },
  {
   "cell_type": "code",
   "execution_count": 7,
   "metadata": {},
   "outputs": [
    {
     "data": {
      "text/plain": [
       "<All keys matched successfully>"
      ]
     },
     "execution_count": 7,
     "metadata": {},
     "output_type": "execute_result"
    }
   ],
   "source": [
    "# load pre-trained model\n",
    "model = models.ResNet50_modified(n_classes, mc)\n",
    "model.to(device)\n",
    "ckpt = torch.load(join(runs_dir, 'model_ckpt.pth'))\n",
    "model.load_state_dict(ckpt['model'])"
   ]
  },
  {
   "cell_type": "code",
   "execution_count": null,
   "metadata": {},
   "outputs": [],
   "source": []
  },
  {
   "cell_type": "code",
   "execution_count": null,
   "metadata": {},
   "outputs": [],
   "source": []
  },
  {
   "cell_type": "markdown",
   "metadata": {},
   "source": [
    "### Out-of-distribution comparison w/ aleotoric"
   ]
  },
  {
   "cell_type": "code",
   "execution_count": 95,
   "metadata": {},
   "outputs": [],
   "source": [
    "model.eval()\n",
    "aleo_cifar = []\n",
    "with torch.no_grad():\n",
    "    for inputs, targets in test_loader:\n",
    "        inputs, targets = inputs.to(device), targets.to(device)\n",
    "        B = inputs.size(0)\n",
    "        logprob,_,_ = model(inputs)\n",
    "        pred = logprob.max(1)[1]\n",
    "        aleo_cifar += rho[torch.arange(B), pred].div(2).exp().cpu().detach().tolist()"
   ]
  },
  {
   "cell_type": "code",
   "execution_count": 96,
   "metadata": {},
   "outputs": [],
   "source": [
    "model.eval()\n",
    "aleo_svhn = []\n",
    "with torch.no_grad():\n",
    "    for inputs, targets in svhn_loader:\n",
    "        inputs, targets = inputs.to(device), targets.to(device)\n",
    "        B = inputs.size(0)\n",
    "        logprob,_,_ = model(inputs)\n",
    "        pred = logprob.max(1)[1]\n",
    "        aleo_svhn += rho[torch.arange(B), pred].div(2).exp().cpu().detach().tolist()"
   ]
  },
  {
   "cell_type": "code",
   "execution_count": 102,
   "metadata": {},
   "outputs": [
    {
     "data": {
      "image/png": "[encoded data removed]",
      "text/plain": [
       "<Figure size 432x288 with 1 Axes>"
      ]
     },
     "metadata": {},
     "output_type": "display_data"
    }
   ],
   "source": [
    "sns.kdeplot(aleo_cifar, label='CIFAR100')\n",
    "sns.kdeplot(aleo_svhn, label='SVHN')\n",
    "plt.legend(loc='best')\n",
    "plt.title('Aleotoric uncertainty (KDE)')\n",
    "plt.ylabel('Density')\n",
    "plt.show()"
   ]
  },
  {
   "cell_type": "code",
   "execution_count": null,
   "metadata": {},
   "outputs": [],
   "source": []
  },
  {
   "cell_type": "markdown",
   "metadata": {},
   "source": [
    "### Out-of-distribution comparison w/ epistemic"
   ]
  },
  {
   "cell_type": "code",
   "execution_count": 98,
   "metadata": {},
   "outputs": [],
   "source": [
    "model.eval()\n",
    "epis_cifar = []\n",
    "with torch.no_grad():\n",
    "    for inputs, targets in test_loader:\n",
    "        inputs, targets = inputs.to(device), targets.to(device)\n",
    "        B = inputs.size(0)\n",
    "        logprob,_,_ = model(inputs)\n",
    "        epis_cifar += logprob.exp().mul(logprob).sum(dim=1).mul(-1).cpu().detach().tolist()"
   ]
  },
  {
   "cell_type": "code",
   "execution_count": 99,
   "metadata": {},
   "outputs": [],
   "source": [
    "model.eval()\n",
    "epis_svhn = []\n",
    "with torch.no_grad():\n",
    "    for inputs, targets in svhn_loader:\n",
    "        inputs, targets = inputs.to(device), targets.to(device)\n",
    "        B = inputs.size(0)\n",
    "        logprob,_,_ = model(inputs)\n",
    "        epis_svhn += logprob.exp().mul(logprob).sum(dim=1).mul(-1).cpu().detach().tolist()"
   ]
  },
  {
   "cell_type": "code",
   "execution_count": 86,
   "metadata": {},
   "outputs": [],
   "source": [
    "epis_cifar = logprob.exp().mul(logprob).sum(dim=1).mul(-1).cpu().detach().numpy()\n",
    "epis_svhn = svhn_logprob.exp().mul(svhn_logprob).sum(dim=1).mul(-1).cpu().detach().numpy()"
   ]
  },
  {
   "cell_type": "code",
   "execution_count": 103,
   "metadata": {},
   "outputs": [
    {
     "data": {
      "image/png": "[encoded data removed]",
      "text/plain": [
       "<Figure size 432x288 with 1 Axes>"
      ]
     },
     "metadata": {},
     "output_type": "display_data"
    }
   ],
   "source": [
    "sns.kdeplot(epis_cifar, label='CIFAR100')\n",
    "sns.kdeplot(epis_svhn, label='SVHN')\n",
    "plt.legend(loc='best')\n",
    "plt.title('Epistemic uncertainty (KDE)')\n",
    "plt.ylabel('Density')\n",
    "plt.show()"
   ]
  },
  {
   "cell_type": "code",
   "execution_count": null,
   "metadata": {},
   "outputs": [],
   "source": []
  },
  {
   "cell_type": "markdown",
   "metadata": {},
   "source": [
    "### In-distribution comparison by calibration"
   ]
  },
  {
   "cell_type": "code",
   "execution_count": null,
   "metadata": {},
   "outputs": [],
   "source": []
  }
 ],
 "metadata": {
  "kernelspec": {
   "display_name": "Python 3",
   "language": "python",
   "name": "python3"
  },
  "language_info": {
   "codemirror_mode": {
    "name": "ipython",
    "version": 3
   },
   "file_extension": ".py",
   "mimetype": "text/x-python",
   "name": "python",
   "nbconvert_exporter": "python",
   "pygments_lexer": "ipython3",
   "version": "3.6.10"
  }
 },
 "nbformat": 4,
 "nbformat_minor": 4
}
